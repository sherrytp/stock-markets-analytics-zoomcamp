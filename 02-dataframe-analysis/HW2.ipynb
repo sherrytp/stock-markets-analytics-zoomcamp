{
 "cells": [
  {
   "cell_type": "code",
   "execution_count": 4,
   "metadata": {},
   "outputs": [],
   "source": [
    "# IMPORTS\n",
    "import numpy as np\n",
    "import pandas as pd\n",
    "\n",
    "import re\n",
    "import requests\n",
    "\n",
    "#Fin Data Sources\n",
    "import yfinance as yf\n",
    "import pandas_datareader as pdr\n",
    "\n",
    "#Data viz\n",
    "import plotly.graph_objs as go\n",
    "import plotly.express as px\n",
    "\n",
    "import time\n",
    "from datetime import date\n",
    "\n",
    "# for graphs\n",
    "import matplotlib.pyplot as plt"
   ]
  },
  {
   "cell_type": "code",
   "execution_count": 6,
   "metadata": {},
   "outputs": [
    {
     "name": "stderr",
     "output_type": "stream",
     "text": [
      "/tmp/ipykernel_23537/1669464139.py:10: FutureWarning: Passing literal html to 'read_html' is deprecated and will be removed in a future version. To read from a literal string, wrap it in a 'StringIO' object.\n",
      "  ipo_filings = pd.read_html(response.text)\n"
     ]
    },
    {
     "data": {
      "text/html": [
       "<div>\n",
       "<style scoped>\n",
       "    .dataframe tbody tr th:only-of-type {\n",
       "        vertical-align: middle;\n",
       "    }\n",
       "\n",
       "    .dataframe tbody tr th {\n",
       "        vertical-align: top;\n",
       "    }\n",
       "\n",
       "    .dataframe thead th {\n",
       "        text-align: right;\n",
       "    }\n",
       "</style>\n",
       "<table border=\"1\" class=\"dataframe\">\n",
       "  <thead>\n",
       "    <tr style=\"text-align: right;\">\n",
       "      <th></th>\n",
       "      <th>Filing Date</th>\n",
       "      <th>Symbol</th>\n",
       "      <th>Company Name</th>\n",
       "      <th>Price Range</th>\n",
       "      <th>Shares Offered</th>\n",
       "    </tr>\n",
       "  </thead>\n",
       "  <tbody>\n",
       "    <tr>\n",
       "      <th>0</th>\n",
       "      <td>May 3, 2024</td>\n",
       "      <td>TBN</td>\n",
       "      <td>Tamboran Resources Corporation</td>\n",
       "      <td>-</td>\n",
       "      <td>-</td>\n",
       "    </tr>\n",
       "    <tr>\n",
       "      <th>1</th>\n",
       "      <td>Apr 29, 2024</td>\n",
       "      <td>HWEC</td>\n",
       "      <td>HW Electro Co., Ltd.</td>\n",
       "      <td>$3.00</td>\n",
       "      <td>3750000</td>\n",
       "    </tr>\n",
       "    <tr>\n",
       "      <th>2</th>\n",
       "      <td>Apr 29, 2024</td>\n",
       "      <td>DTSQ</td>\n",
       "      <td>DT Cloud Star Acquisition Corporation</td>\n",
       "      <td>$10.00</td>\n",
       "      <td>6000000</td>\n",
       "    </tr>\n",
       "    <tr>\n",
       "      <th>3</th>\n",
       "      <td>Apr 26, 2024</td>\n",
       "      <td>EURK</td>\n",
       "      <td>Eureka Acquisition Corp</td>\n",
       "      <td>$10.00</td>\n",
       "      <td>5000000</td>\n",
       "    </tr>\n",
       "    <tr>\n",
       "      <th>4</th>\n",
       "      <td>Apr 26, 2024</td>\n",
       "      <td>HDL</td>\n",
       "      <td>Super Hi International Holding Ltd.</td>\n",
       "      <td>-</td>\n",
       "      <td>-</td>\n",
       "    </tr>\n",
       "    <tr>\n",
       "      <th>...</th>\n",
       "      <td>...</td>\n",
       "      <td>...</td>\n",
       "      <td>...</td>\n",
       "      <td>...</td>\n",
       "      <td>...</td>\n",
       "    </tr>\n",
       "    <tr>\n",
       "      <th>321</th>\n",
       "      <td>Jan 21, 2020</td>\n",
       "      <td>GOXS</td>\n",
       "      <td>Goxus, Inc.</td>\n",
       "      <td>$8.00 - $10.00</td>\n",
       "      <td>1500000</td>\n",
       "    </tr>\n",
       "    <tr>\n",
       "      <th>322</th>\n",
       "      <td>Jan 21, 2020</td>\n",
       "      <td>UTXO</td>\n",
       "      <td>UTXO Acquisition, Inc.</td>\n",
       "      <td>$10.00</td>\n",
       "      <td>5000000</td>\n",
       "    </tr>\n",
       "    <tr>\n",
       "      <th>323</th>\n",
       "      <td>Dec 9, 2019</td>\n",
       "      <td>LOHA</td>\n",
       "      <td>Loha Co. Ltd</td>\n",
       "      <td>$8.00 - $10.00</td>\n",
       "      <td>2500000</td>\n",
       "    </tr>\n",
       "    <tr>\n",
       "      <th>324</th>\n",
       "      <td>Oct 4, 2019</td>\n",
       "      <td>ZGHB</td>\n",
       "      <td>China Eco-Materials Group Co. Limited</td>\n",
       "      <td>$4.00</td>\n",
       "      <td>4300000</td>\n",
       "    </tr>\n",
       "    <tr>\n",
       "      <th>325</th>\n",
       "      <td>Dec 27, 2018</td>\n",
       "      <td>FBOX</td>\n",
       "      <td>Fit Boxx Holdings Limited</td>\n",
       "      <td>$5.00 - $6.50</td>\n",
       "      <td>2000000</td>\n",
       "    </tr>\n",
       "  </tbody>\n",
       "</table>\n",
       "<p>326 rows × 5 columns</p>\n",
       "</div>"
      ],
      "text/plain": [
       "      Filing Date Symbol                           Company Name  \\\n",
       "0     May 3, 2024    TBN         Tamboran Resources Corporation   \n",
       "1    Apr 29, 2024   HWEC                   HW Electro Co., Ltd.   \n",
       "2    Apr 29, 2024   DTSQ  DT Cloud Star Acquisition Corporation   \n",
       "3    Apr 26, 2024   EURK                Eureka Acquisition Corp   \n",
       "4    Apr 26, 2024    HDL    Super Hi International Holding Ltd.   \n",
       "..            ...    ...                                    ...   \n",
       "321  Jan 21, 2020   GOXS                            Goxus, Inc.   \n",
       "322  Jan 21, 2020   UTXO                 UTXO Acquisition, Inc.   \n",
       "323   Dec 9, 2019   LOHA                           Loha Co. Ltd   \n",
       "324   Oct 4, 2019   ZGHB  China Eco-Materials Group Co. Limited   \n",
       "325  Dec 27, 2018   FBOX              Fit Boxx Holdings Limited   \n",
       "\n",
       "        Price Range Shares Offered  \n",
       "0                 -              -  \n",
       "1             $3.00        3750000  \n",
       "2            $10.00        6000000  \n",
       "3            $10.00        5000000  \n",
       "4                 -              -  \n",
       "..              ...            ...  \n",
       "321  $8.00 - $10.00        1500000  \n",
       "322          $10.00        5000000  \n",
       "323  $8.00 - $10.00        2500000  \n",
       "324           $4.00        4300000  \n",
       "325   $5.00 - $6.50        2000000  \n",
       "\n",
       "[326 rows x 5 columns]"
      ]
     },
     "execution_count": 6,
     "metadata": {},
     "output_type": "execute_result"
    }
   ],
   "source": [
    "## HW Q1\n",
    "\n",
    "headers = {\n",
    "    'User-Agent': 'Mozilla/5.0 (Windows NT 10.0; Win64; x64) AppleWebKit/537.36 (KHTML, like Gecko) Chrome/58.0.3029.110 Safari/537.3',\n",
    "}\n",
    "\n",
    "url = \"https://stockanalysis.com/ipos/filings/\"\n",
    "response = requests.get(url, headers=headers)\n",
    "\n",
    "ipo_filings = pd.read_html(response.text)\n",
    "filings = ipo_filings[0]\n",
    "filings"
   ]
  },
  {
   "cell_type": "code",
   "execution_count": 7,
   "metadata": {},
   "outputs": [
    {
     "data": {
      "text/html": [
       "<div>\n",
       "<style scoped>\n",
       "    .dataframe tbody tr th:only-of-type {\n",
       "        vertical-align: middle;\n",
       "    }\n",
       "\n",
       "    .dataframe tbody tr th {\n",
       "        vertical-align: top;\n",
       "    }\n",
       "\n",
       "    .dataframe thead th {\n",
       "        text-align: right;\n",
       "    }\n",
       "</style>\n",
       "<table border=\"1\" class=\"dataframe\">\n",
       "  <thead>\n",
       "    <tr style=\"text-align: right;\">\n",
       "      <th></th>\n",
       "      <th>Filing Date</th>\n",
       "      <th>Symbol</th>\n",
       "      <th>Company Name</th>\n",
       "      <th>Price Range</th>\n",
       "      <th>Shares Offered</th>\n",
       "    </tr>\n",
       "  </thead>\n",
       "  <tbody>\n",
       "    <tr>\n",
       "      <th>0</th>\n",
       "      <td>2024-05-03</td>\n",
       "      <td>TBN</td>\n",
       "      <td>Tamboran Resources Corporation</td>\n",
       "      <td>-</td>\n",
       "      <td>-</td>\n",
       "    </tr>\n",
       "    <tr>\n",
       "      <th>4</th>\n",
       "      <td>2024-04-26</td>\n",
       "      <td>HDL</td>\n",
       "      <td>Super Hi International Holding Ltd.</td>\n",
       "      <td>-</td>\n",
       "      <td>-</td>\n",
       "    </tr>\n",
       "    <tr>\n",
       "      <th>5</th>\n",
       "      <td>2024-04-22</td>\n",
       "      <td>DRJT</td>\n",
       "      <td>Derun Group Inc</td>\n",
       "      <td>$5.00</td>\n",
       "      <td>-</td>\n",
       "    </tr>\n",
       "    <tr>\n",
       "      <th>7</th>\n",
       "      <td>2024-04-16</td>\n",
       "      <td>JLJT</td>\n",
       "      <td>Jialiang Holdings Ltd</td>\n",
       "      <td>$5.00</td>\n",
       "      <td>-</td>\n",
       "    </tr>\n",
       "    <tr>\n",
       "      <th>8</th>\n",
       "      <td>2024-04-15</td>\n",
       "      <td>GAUZ</td>\n",
       "      <td>Gauzy Ltd.</td>\n",
       "      <td>-</td>\n",
       "      <td>-</td>\n",
       "    </tr>\n",
       "    <tr>\n",
       "      <th>...</th>\n",
       "      <td>...</td>\n",
       "      <td>...</td>\n",
       "      <td>...</td>\n",
       "      <td>...</td>\n",
       "      <td>...</td>\n",
       "    </tr>\n",
       "    <tr>\n",
       "      <th>301</th>\n",
       "      <td>2021-03-02</td>\n",
       "      <td>NSAL</td>\n",
       "      <td>Navios South American Logistics, Inc.</td>\n",
       "      <td>-</td>\n",
       "      <td>-</td>\n",
       "    </tr>\n",
       "    <tr>\n",
       "      <th>315</th>\n",
       "      <td>2021-01-19</td>\n",
       "      <td>DECI</td>\n",
       "      <td>Decipher Biosciences, Inc.</td>\n",
       "      <td>-</td>\n",
       "      <td>-</td>\n",
       "    </tr>\n",
       "    <tr>\n",
       "      <th>317</th>\n",
       "      <td>2020-09-08</td>\n",
       "      <td>GMWX</td>\n",
       "      <td>GameWorks, Inc.</td>\n",
       "      <td>-</td>\n",
       "      <td>-</td>\n",
       "    </tr>\n",
       "    <tr>\n",
       "      <th>318</th>\n",
       "      <td>2020-09-04</td>\n",
       "      <td>SCIT</td>\n",
       "      <td>Sancai Holding Group Ltd.</td>\n",
       "      <td>-</td>\n",
       "      <td>-</td>\n",
       "    </tr>\n",
       "    <tr>\n",
       "      <th>320</th>\n",
       "      <td>2020-02-18</td>\n",
       "      <td>CAST</td>\n",
       "      <td>FreeCast, Inc.</td>\n",
       "      <td>-</td>\n",
       "      <td>-</td>\n",
       "    </tr>\n",
       "  </tbody>\n",
       "</table>\n",
       "<p>74 rows × 5 columns</p>\n",
       "</div>"
      ],
      "text/plain": [
       "    Filing Date Symbol                           Company Name Price Range  \\\n",
       "0    2024-05-03    TBN         Tamboran Resources Corporation           -   \n",
       "4    2024-04-26    HDL    Super Hi International Holding Ltd.           -   \n",
       "5    2024-04-22   DRJT                        Derun Group Inc       $5.00   \n",
       "7    2024-04-16   JLJT                  Jialiang Holdings Ltd       $5.00   \n",
       "8    2024-04-15   GAUZ                             Gauzy Ltd.           -   \n",
       "..          ...    ...                                    ...         ...   \n",
       "301  2021-03-02   NSAL  Navios South American Logistics, Inc.           -   \n",
       "315  2021-01-19   DECI             Decipher Biosciences, Inc.           -   \n",
       "317  2020-09-08   GMWX                        GameWorks, Inc.           -   \n",
       "318  2020-09-04   SCIT              Sancai Holding Group Ltd.           -   \n",
       "320  2020-02-18   CAST                         FreeCast, Inc.           -   \n",
       "\n",
       "    Shares Offered  \n",
       "0                -  \n",
       "4                -  \n",
       "5                -  \n",
       "7                -  \n",
       "8                -  \n",
       "..             ...  \n",
       "301              -  \n",
       "315              -  \n",
       "317              -  \n",
       "318              -  \n",
       "320              -  \n",
       "\n",
       "[74 rows x 5 columns]"
      ]
     },
     "execution_count": 7,
     "metadata": {},
     "output_type": "execute_result"
    }
   ],
   "source": [
    "filings['Filing Date'] = pd.to_datetime(filings['Filing Date'], format='mixed')\n",
    "filings[filings['Shares Offered'].astype(str).str.find('-') >= 0]"
   ]
  },
  {
   "cell_type": "code",
   "execution_count": 8,
   "metadata": {},
   "outputs": [
    {
     "data": {
      "text/html": [
       "<div>\n",
       "<style scoped>\n",
       "    .dataframe tbody tr th:only-of-type {\n",
       "        vertical-align: middle;\n",
       "    }\n",
       "\n",
       "    .dataframe tbody tr th {\n",
       "        vertical-align: top;\n",
       "    }\n",
       "\n",
       "    .dataframe thead th {\n",
       "        text-align: right;\n",
       "    }\n",
       "</style>\n",
       "<table border=\"1\" class=\"dataframe\">\n",
       "  <thead>\n",
       "    <tr style=\"text-align: right;\">\n",
       "      <th></th>\n",
       "      <th>Filing Date</th>\n",
       "      <th>Symbol</th>\n",
       "      <th>Company Name</th>\n",
       "      <th>Price Range</th>\n",
       "      <th>Shares Offered</th>\n",
       "      <th>Avg_price</th>\n",
       "    </tr>\n",
       "  </thead>\n",
       "  <tbody>\n",
       "    <tr>\n",
       "      <th>0</th>\n",
       "      <td>2024-05-03</td>\n",
       "      <td>TBN</td>\n",
       "      <td>Tamboran Resources Corporation</td>\n",
       "      <td>-</td>\n",
       "      <td>-</td>\n",
       "      <td>NaN</td>\n",
       "    </tr>\n",
       "    <tr>\n",
       "      <th>1</th>\n",
       "      <td>2024-04-29</td>\n",
       "      <td>HWEC</td>\n",
       "      <td>HW Electro Co., Ltd.</td>\n",
       "      <td>$3.00</td>\n",
       "      <td>3750000</td>\n",
       "      <td>3.00</td>\n",
       "    </tr>\n",
       "    <tr>\n",
       "      <th>2</th>\n",
       "      <td>2024-04-29</td>\n",
       "      <td>DTSQ</td>\n",
       "      <td>DT Cloud Star Acquisition Corporation</td>\n",
       "      <td>$10.00</td>\n",
       "      <td>6000000</td>\n",
       "      <td>10.00</td>\n",
       "    </tr>\n",
       "    <tr>\n",
       "      <th>3</th>\n",
       "      <td>2024-04-26</td>\n",
       "      <td>EURK</td>\n",
       "      <td>Eureka Acquisition Corp</td>\n",
       "      <td>$10.00</td>\n",
       "      <td>5000000</td>\n",
       "      <td>10.00</td>\n",
       "    </tr>\n",
       "    <tr>\n",
       "      <th>4</th>\n",
       "      <td>2024-04-26</td>\n",
       "      <td>HDL</td>\n",
       "      <td>Super Hi International Holding Ltd.</td>\n",
       "      <td>-</td>\n",
       "      <td>-</td>\n",
       "      <td>NaN</td>\n",
       "    </tr>\n",
       "    <tr>\n",
       "      <th>...</th>\n",
       "      <td>...</td>\n",
       "      <td>...</td>\n",
       "      <td>...</td>\n",
       "      <td>...</td>\n",
       "      <td>...</td>\n",
       "      <td>...</td>\n",
       "    </tr>\n",
       "    <tr>\n",
       "      <th>321</th>\n",
       "      <td>2020-01-21</td>\n",
       "      <td>GOXS</td>\n",
       "      <td>Goxus, Inc.</td>\n",
       "      <td>$8.00 - $10.00</td>\n",
       "      <td>1500000</td>\n",
       "      <td>9.00</td>\n",
       "    </tr>\n",
       "    <tr>\n",
       "      <th>322</th>\n",
       "      <td>2020-01-21</td>\n",
       "      <td>UTXO</td>\n",
       "      <td>UTXO Acquisition, Inc.</td>\n",
       "      <td>$10.00</td>\n",
       "      <td>5000000</td>\n",
       "      <td>10.00</td>\n",
       "    </tr>\n",
       "    <tr>\n",
       "      <th>323</th>\n",
       "      <td>2019-12-09</td>\n",
       "      <td>LOHA</td>\n",
       "      <td>Loha Co. Ltd</td>\n",
       "      <td>$8.00 - $10.00</td>\n",
       "      <td>2500000</td>\n",
       "      <td>9.00</td>\n",
       "    </tr>\n",
       "    <tr>\n",
       "      <th>324</th>\n",
       "      <td>2019-10-04</td>\n",
       "      <td>ZGHB</td>\n",
       "      <td>China Eco-Materials Group Co. Limited</td>\n",
       "      <td>$4.00</td>\n",
       "      <td>4300000</td>\n",
       "      <td>4.00</td>\n",
       "    </tr>\n",
       "    <tr>\n",
       "      <th>325</th>\n",
       "      <td>2018-12-27</td>\n",
       "      <td>FBOX</td>\n",
       "      <td>Fit Boxx Holdings Limited</td>\n",
       "      <td>$5.00 - $6.50</td>\n",
       "      <td>2000000</td>\n",
       "      <td>5.75</td>\n",
       "    </tr>\n",
       "  </tbody>\n",
       "</table>\n",
       "<p>326 rows × 6 columns</p>\n",
       "</div>"
      ],
      "text/plain": [
       "    Filing Date Symbol                           Company Name     Price Range  \\\n",
       "0    2024-05-03    TBN         Tamboran Resources Corporation               -   \n",
       "1    2024-04-29   HWEC                   HW Electro Co., Ltd.           $3.00   \n",
       "2    2024-04-29   DTSQ  DT Cloud Star Acquisition Corporation          $10.00   \n",
       "3    2024-04-26   EURK                Eureka Acquisition Corp          $10.00   \n",
       "4    2024-04-26    HDL    Super Hi International Holding Ltd.               -   \n",
       "..          ...    ...                                    ...             ...   \n",
       "321  2020-01-21   GOXS                            Goxus, Inc.  $8.00 - $10.00   \n",
       "322  2020-01-21   UTXO                 UTXO Acquisition, Inc.          $10.00   \n",
       "323  2019-12-09   LOHA                           Loha Co. Ltd  $8.00 - $10.00   \n",
       "324  2019-10-04   ZGHB  China Eco-Materials Group Co. Limited           $4.00   \n",
       "325  2018-12-27   FBOX              Fit Boxx Holdings Limited   $5.00 - $6.50   \n",
       "\n",
       "    Shares Offered  Avg_price  \n",
       "0                -        NaN  \n",
       "1          3750000       3.00  \n",
       "2          6000000      10.00  \n",
       "3          5000000      10.00  \n",
       "4                -        NaN  \n",
       "..             ...        ...  \n",
       "321        1500000       9.00  \n",
       "322        5000000      10.00  \n",
       "323        2500000       9.00  \n",
       "324        4300000       4.00  \n",
       "325        2000000       5.75  \n",
       "\n",
       "[326 rows x 6 columns]"
      ]
     },
     "execution_count": 8,
     "metadata": {},
     "output_type": "execute_result"
    }
   ],
   "source": [
    "def extract_prices(input_string):\n",
    "    \"\"\"\n",
    "    :params input_strings:\n",
    "        1. replace '-' with NaN, if no price is specified\n",
    "        2. return the original price, if only one number provided, e.g. $4.00\n",
    "        3. return average of 2 price ranages, e.g. $8.00-$10.00\n",
    "    \"\"\"\n",
    "    if input_string == '-': \n",
    "        return np.NaN\n",
    "    else: \n",
    "        price_list = input_string.replace('$', '').split('-')\n",
    "        float_price = [float(price) for price in price_list]\n",
    "        return sum(float_price) / len(float_price)\n",
    "\n",
    "filings['Avg_price'] = filings['Price Range'].apply(extract_prices)\n",
    "filings"
   ]
  },
  {
   "cell_type": "code",
   "execution_count": 9,
   "metadata": {},
   "outputs": [
    {
     "data": {
      "text/plain": [
       "(32, 7)"
      ]
     },
     "execution_count": 9,
     "metadata": {},
     "output_type": "execute_result"
    }
   ],
   "source": [
    "filings['Shares Offered'] = pd.to_numeric(filings['Shares Offered'], errors='coerce')\n",
    "filings['Shares_offered_value'] = filings['Shares Offered'] * filings['Avg_price']\n",
    "filings_2023Fri = filings[\n",
    "    (filings['Filing Date'].dt.dayofweek == 4) & (filings['Filing Date'].dt.year == 2023)]\n",
    "filings_2023Fri.shape"
   ]
  },
  {
   "cell_type": "code",
   "execution_count": 10,
   "metadata": {},
   "outputs": [
    {
     "data": {
      "text/plain": [
       "285700000.0"
      ]
     },
     "execution_count": 10,
     "metadata": {},
     "output_type": "execute_result"
    }
   ],
   "source": [
    "filings_2023Fri['Shares_offered_value'].sum()"
   ]
  },
  {
   "cell_type": "markdown",
   "metadata": {},
   "source": [
    "# 1) [Code Snippet 1] IPOs data from Web\n",
    "\n",
    "* learn dataframes \"stacking\" (UNION ALL)\n",
    "* learn about type casting\n",
    "* generate new columns (simple and with function)\n"
   ]
  },
  {
   "cell_type": "code",
   "execution_count": 11,
   "metadata": {},
   "outputs": [
    {
     "name": "stderr",
     "output_type": "stream",
     "text": [
      "/tmp/ipykernel_23537/4213396001.py:11: FutureWarning: Passing literal html to 'read_html' is deprecated and will be removed in a future version. To read from a literal string, wrap it in a 'StringIO' object.\n",
      "  ipo_dfs = pd.read_html(response.text)\n"
     ]
    }
   ],
   "source": [
    "import pandas as pd\n",
    "import requests\n",
    "\n",
    "headers = {\n",
    "    'User-Agent': 'Mozilla/5.0 (Windows NT 10.0; Win64; x64) AppleWebKit/537.36 (KHTML, like Gecko) Chrome/58.0.3029.110 Safari/537.3',\n",
    "}\n",
    "\n",
    "url = \"https://stockanalysis.com/ipos/2023/\"\n",
    "response = requests.get(url, headers=headers)\n",
    "\n",
    "ipo_dfs = pd.read_html(response.text)"
   ]
  },
  {
   "cell_type": "code",
   "execution_count": 12,
   "metadata": {},
   "outputs": [
    {
     "name": "stdout",
     "output_type": "stream",
     "text": [
      "<class 'pandas.core.frame.DataFrame'>\n",
      "RangeIndex: 154 entries, 0 to 153\n",
      "Data columns (total 6 columns):\n",
      " #   Column        Non-Null Count  Dtype \n",
      "---  ------        --------------  ----- \n",
      " 0   IPO Date      154 non-null    object\n",
      " 1   Symbol        154 non-null    object\n",
      " 2   Company Name  154 non-null    object\n",
      " 3   IPO Price     154 non-null    object\n",
      " 4   Current       154 non-null    object\n",
      " 5   Return        154 non-null    object\n",
      "dtypes: object(6)\n",
      "memory usage: 7.3+ KB\n"
     ]
    }
   ],
   "source": [
    "ipos_2023 = ipo_dfs[0]\n",
    "ipos_2023.info()"
   ]
  },
  {
   "cell_type": "code",
   "execution_count": 13,
   "metadata": {},
   "outputs": [
    {
     "name": "stderr",
     "output_type": "stream",
     "text": [
      "/tmp/ipykernel_23537/1522156903.py:4: FutureWarning: Passing literal html to 'read_html' is deprecated and will be removed in a future version. To read from a literal string, wrap it in a 'StringIO' object.\n",
      "  ipo_dfs = pd.read_html(response.text)\n"
     ]
    }
   ],
   "source": [
    "url = \"https://stockanalysis.com/ipos/2024/\"\n",
    "response = requests.get(url, headers=headers)\n",
    "\n",
    "ipo_dfs = pd.read_html(response.text)"
   ]
  },
  {
   "cell_type": "code",
   "execution_count": 14,
   "metadata": {},
   "outputs": [
    {
     "name": "stdout",
     "output_type": "stream",
     "text": [
      "<class 'pandas.core.frame.DataFrame'>\n",
      "RangeIndex: 65 entries, 0 to 64\n",
      "Data columns (total 6 columns):\n",
      " #   Column        Non-Null Count  Dtype \n",
      "---  ------        --------------  ----- \n",
      " 0   IPO Date      65 non-null     object\n",
      " 1   Symbol        65 non-null     object\n",
      " 2   Company Name  65 non-null     object\n",
      " 3   IPO Price     65 non-null     object\n",
      " 4   Current       65 non-null     object\n",
      " 5   Return        65 non-null     object\n",
      "dtypes: object(6)\n",
      "memory usage: 3.2+ KB\n"
     ]
    }
   ],
   "source": [
    "ipos_2024 = ipo_dfs[0]\n",
    "ipos_2024.info()"
   ]
  },
  {
   "cell_type": "code",
   "execution_count": 15,
   "metadata": {},
   "outputs": [],
   "source": [
    "# \"stacking dataframes\"\n",
    "# pd.concat() is used to concatenate the DataFrames vertically.\n",
    "# The ignore_index=True parameter ensures that the resulting DataFrame has a new index,\n",
    "# ignoring the original indices of the input DataFrames.\n",
    "# The stacked_df now contains the concatenated DataFrame.\n",
    "stacked_ipos_df = pd.concat([ipos_2024, ipos_2023], ignore_index=True)"
   ]
  },
  {
   "cell_type": "code",
   "execution_count": 16,
   "metadata": {},
   "outputs": [
    {
     "data": {
      "text/html": [
       "<div>\n",
       "<style scoped>\n",
       "    .dataframe tbody tr th:only-of-type {\n",
       "        vertical-align: middle;\n",
       "    }\n",
       "\n",
       "    .dataframe tbody tr th {\n",
       "        vertical-align: top;\n",
       "    }\n",
       "\n",
       "    .dataframe thead th {\n",
       "        text-align: right;\n",
       "    }\n",
       "</style>\n",
       "<table border=\"1\" class=\"dataframe\">\n",
       "  <thead>\n",
       "    <tr style=\"text-align: right;\">\n",
       "      <th></th>\n",
       "      <th>IPO Date</th>\n",
       "      <th>Symbol</th>\n",
       "      <th>Company Name</th>\n",
       "      <th>IPO Price</th>\n",
       "      <th>Current</th>\n",
       "      <th>Return</th>\n",
       "    </tr>\n",
       "  </thead>\n",
       "  <tbody>\n",
       "    <tr>\n",
       "      <th>0</th>\n",
       "      <td>May 8, 2024</td>\n",
       "      <td>NNE</td>\n",
       "      <td>Nano Nuclear Energy Inc.</td>\n",
       "      <td>$4.00</td>\n",
       "      <td>$5.19</td>\n",
       "      <td>29.75%</td>\n",
       "    </tr>\n",
       "  </tbody>\n",
       "</table>\n",
       "</div>"
      ],
      "text/plain": [
       "      IPO Date Symbol              Company Name IPO Price Current  Return\n",
       "0  May 8, 2024    NNE  Nano Nuclear Energy Inc.     $4.00   $5.19  29.75%"
      ]
     },
     "execution_count": 16,
     "metadata": {},
     "output_type": "execute_result"
    }
   ],
   "source": [
    "stacked_ipos_df.head(1)"
   ]
  },
  {
   "cell_type": "code",
   "execution_count": 17,
   "metadata": {},
   "outputs": [
    {
     "name": "stdout",
     "output_type": "stream",
     "text": [
      "<class 'pandas.core.frame.DataFrame'>\n",
      "RangeIndex: 219 entries, 0 to 218\n",
      "Data columns (total 6 columns):\n",
      " #   Column        Non-Null Count  Dtype \n",
      "---  ------        --------------  ----- \n",
      " 0   IPO Date      219 non-null    object\n",
      " 1   Symbol        219 non-null    object\n",
      " 2   Company Name  219 non-null    object\n",
      " 3   IPO Price     219 non-null    object\n",
      " 4   Current       219 non-null    object\n",
      " 5   Return        219 non-null    object\n",
      "dtypes: object(6)\n",
      "memory usage: 10.4+ KB\n"
     ]
    }
   ],
   "source": [
    "# Need to convert everything to a proper type (date, str, int, float, etc.)\n",
    "stacked_ipos_df.info()"
   ]
  },
  {
   "cell_type": "code",
   "execution_count": 19,
   "metadata": {},
   "outputs": [],
   "source": [
    "# convert to datetime\n",
    "stacked_ipos_df['IPO Date'] = pd.to_datetime(stacked_ipos_df['IPO Date'], format='mixed')"
   ]
  },
  {
   "cell_type": "code",
   "execution_count": 45,
   "metadata": {},
   "outputs": [
    {
     "data": {
      "text/plain": [
       "185"
      ]
     },
     "execution_count": 45,
     "metadata": {},
     "output_type": "execute_result"
    }
   ],
   "source": [
    "ipo_tickers = stacked_ipos_df[stacked_ipos_df['IPO Date'] < '2024-03-01']['Symbol']\n",
    "# ipo_tickers.drop('RYZB', inplace=True)\n",
    "len(ipo_tickers)"
   ]
  },
  {
   "cell_type": "code",
   "execution_count": 44,
   "metadata": {},
   "outputs": [
    {
     "data": {
      "text/plain": [
       "34     SMXT\n",
       "35     VHAI\n",
       "36     DYCQ\n",
       "37     CHRO\n",
       "38     UMAC\n",
       "       ... \n",
       "214     QSG\n",
       "215    CVKD\n",
       "216    SKWD\n",
       "217    ISRL\n",
       "218    MGOL\n",
       "Name: Symbol, Length: 185, dtype: object"
      ]
     },
     "execution_count": 44,
     "metadata": {},
     "output_type": "execute_result"
    }
   ],
   "source": [
    "for ticker in ipo_tickers: \n",
    "    if ticker == 'RYZB': \n",
    "        continue\n",
    "    else: \n",
    "        yf.download(tickers = ticker,\n",
    "                     period = \"max\",\n",
    "                     interval = \"1d\")"
   ]
  },
  {
   "cell_type": "code",
   "execution_count": 51,
   "metadata": {},
   "outputs": [
    {
     "name": "stderr",
     "output_type": "stream",
     "text": [
      "[*********************100%%**********************]  1 of 1 completed\n"
     ]
    },
    {
     "data": {
      "text/plain": [
       "Date\n",
       "2024-02-27    8.0\n",
       "Name: Adj Close, dtype: float64"
      ]
     },
     "execution_count": 51,
     "metadata": {},
     "output_type": "execute_result"
    }
   ],
   "source": [
    "price_df = yf.download(tickers='SMXT', period='max', interval='1d')\n",
    "price_df.head(1)['Adj Close']"
   ]
  },
  {
   "cell_type": "code",
   "execution_count": null,
   "metadata": {},
   "outputs": [],
   "source": [
    "price_df['Adj Close']"
   ]
  },
  {
   "cell_type": "code",
   "execution_count": null,
   "metadata": {},
   "outputs": [],
   "source": [
    "def calculate(df: pd.DataFrame): \n",
    "    \"\"\"\n",
    "    :params df: stock price table retrieved from Yahoo Finance,\n",
    "    with columns of Open, High, Low, Close, Adj Close, Volume. \n",
    "    \"\"\"\n",
    "    start_price = df.head(1)['Adj Close']\n",
    "    "
   ]
  }
 ],
 "metadata": {
  "kernelspec": {
   "display_name": "Python 3",
   "language": "python",
   "name": "python3"
  },
  "language_info": {
   "codemirror_mode": {
    "name": "ipython",
    "version": 3
   },
   "file_extension": ".py",
   "mimetype": "text/x-python",
   "name": "python",
   "nbconvert_exporter": "python",
   "pygments_lexer": "ipython3",
   "version": "3.10.13"
  }
 },
 "nbformat": 4,
 "nbformat_minor": 2
}
